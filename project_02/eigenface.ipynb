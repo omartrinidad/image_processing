{
 "cells": [
  {
   "cell_type": "code",
   "execution_count": 1,
   "metadata": {
    "collapsed": true
   },
   "outputs": [],
   "source": [
    "import scipy.misc as misc\n",
    "import numpy as np\n",
    "import matplotlib.pyplot as plt\n",
    "import numpy.linalg as la\n",
    "\n",
    "\n",
    "#read image\n",
    "def readImage(filename):\n",
    "    f = misc.imread(filename, flatten=True).astype(\"float\")\n",
    "    return f\n",
    "\n",
    "#write image\n",
    "def writeImage(data,filename):\n",
    "    misc.toimage(data,cmin=0,cmax=255).save(filename)"
   ]
  },
  {
   "cell_type": "code",
   "execution_count": 10,
   "metadata": {
    "collapsed": false
   },
   "outputs": [
    {
     "name": "stdout",
     "output_type": "stream",
     "text": [
      "[1922  350 1139 ..., 1677 1388  165]\n",
      "[1296 2049 1648  194  771 2277  434 1171  791 2068 1544 1969 1818 1873 1118\n",
      "  161   20  656  294  223  902  459 2423 1354 2230  239 2222  451   68 1486\n",
      "  212  723 1557 1161  172 1313 2273  655 2179   63  884 1576 1267 1253 1146\n",
      "  251 1956 2191  631 2136  219  266 2327  704 1248 2061  527 1860 1238 2219\n",
      " 1444 1949  827 2004  922 2379  683 2384 2084 2149 2407 1224 1113  775  100\n",
      " 2399 2269 2297 1713  465 2119 1184 1518  808 2109  287  487 2415  530 1651\n",
      "  570  699 2362 1692 1152 1352  535 2102 1727 1998  245  750 1528 1401  602\n",
      "   70 1840 1496  195 1640 1405  506 1928  942 2366 1235 2386 2291 1182  680\n",
      " 1121 1854 1100 1068 2334 1995  232 1298 2352    2  344 1089  544  158 1245\n",
      " 1389 1738  166 1565  435 1202 1591  206 2326 1476 1215  184  774   75   79\n",
      "  540 1971 1080 2284  270  588 1725 1643  201  234  559 1763 2050 2343 1255\n",
      " 1899  340 1141 1117   97 1816 1987 1158  613  376 2275  848  481 2089 1323\n",
      " 1458  397 1824 1673 1283   60 1074  222 1805 1736  405  359 1875  455 2086\n",
      "  622 2250  857 1556  962 1333 1952  267 1391 2108 2202 1408  600 1000  781\n",
      " 1218  861 2394  429  281  262  485  393 1814 1229 1143 1067 1846 1980  412\n",
      "  423 1340 1934 1906  852 2422 2385 1587  154 1983 2398 2306 1482 2037  490\n",
      "  348 1967 2032]\n"
     ]
    }
   ],
   "source": [
    "allSetIndex = np.arange(1, 2430)\n",
    "np.random.shuffle(allSetIndex)\n",
    "\n",
    "trainSetIndex = allSetIndex[243:]\n",
    "testSetIndex = allSetIndex[:243]\n",
    "\n",
    "print (trainSetIndex)\n",
    "print (testSetIndex)"
   ]
  },
  {
   "cell_type": "code",
   "execution_count": 11,
   "metadata": {
    "collapsed": false
   },
   "outputs": [
    {
     "name": "stdout",
     "output_type": "stream",
     "text": [
      "243\n"
     ]
    }
   ],
   "source": [
    "print(testSetIndex.size)"
   ]
  },
  {
   "cell_type": "code",
   "execution_count": 20,
   "metadata": {
    "collapsed": false
   },
   "outputs": [
    {
     "name": "stdout",
     "output_type": "stream",
     "text": [
      "(2186, 361)\n",
      "(243, 361)\n"
     ]
    }
   ],
   "source": [
    "x_train = np.empty([trainSetIndex.size, 19*19])\n",
    "for idx, val in enumerate(trainSetIndex):\n",
    "    filename = 'cbcl-faces/face' + format(val, '05d') + '.pgm'\n",
    "    x_train[idx] = readImage(filename).ravel()\n",
    "\n",
    "print (x_train.shape)\n",
    "\n",
    "x_test = np.empty([testSetIndex.size, 19*19])\n",
    "for idx, val in enumerate(testSetIndex):\n",
    "    filename = 'cbcl-faces/face' + format(val, '05d') + '.pgm'\n",
    "    x_test[idx] = readImage(filename).ravel()\n",
    "\n",
    "print(x_test.shape)\n",
    "\n",
    "\n",
    "\n"
   ]
  },
  {
   "cell_type": "code",
   "execution_count": 30,
   "metadata": {
    "collapsed": false
   },
   "outputs": [
    {
     "name": "stdout",
     "output_type": "stream",
     "text": [
      "(361,)\n",
      "[  86.0905764   110.45745654  127.48993596  137.9547118   147.44647758\n",
      "  156.8147301   167.50869167  177.26532479  183.85086917  186.10201281\n",
      "  184.38883806  179.08554437  171.39249771  161.99222324  153.52241537\n",
      "  146.38380604  137.2168344   123.5768527   102.31884721   98.06587374\n",
      "  119.16514181  130.99451052  135.12488564  137.5315645   142.12168344\n",
      "  151.72461116  164.09606587  176.14730101  181.33074108  178.19624886\n",
      "  167.86093321  155.25297347  143.90988106  137.64684355  136.28225069\n",
      "  134.96203111  128.25343092  112.14272644  103.01967063  114.28591034\n",
      "  115.08508692  109.08371455  102.48307411  101.62900274  111.68115279\n",
      "  130.17566331  152.59835316  165.76120769  157.7273559   136.35864593\n",
      "  116.40027447  102.47804209   99.05718207  104.49954254  111.63174748\n",
      "  114.73604758  108.09560842  101.2863678   104.02333028   99.41903019\n",
      "   90.62763038   79.76532479   77.89569991   84.60430009  101.60567246\n",
      "  128.18023788  152.02012809  138.82799634  110.2273559    92.53293687\n",
      "   82.02653248   78.2831656    83.32570906   93.96203111  100.73604758\n",
      "  100.63860933  103.48444648  102.32891125   94.58508692   85.67200366\n",
      "   73.09103385   75.05763952   81.1610247    92.87740165  120.16651418\n",
      "  154.915828    137.50503202  103.67200366   89.26669716   80.95242452\n",
      "   73.12534309   75.98856359   86.96935041   97.05855444  101.98810613\n",
      "  111.52927722  110.71912168   98.46752059   90.57044831   81.6294602\n",
      "   84.83074108   90.83028362   97.97621226  127.2200366   167.53385178\n",
      "  147.10384263  110.03751144   97.72598353   91.70814273   84.3147301\n",
      "   86.86367795   94.46935041  106.06907594  112.99725526  125.36459286\n",
      "  132.0663312   124.88746569  118.94967978  114.23970723  114.82067704\n",
      "  115.2031107   116.45150961  142.75709058  179.14775846  159.30009149\n",
      "  126.30786825  119.10430009  117.30512351  115.58462946  118.50228728\n",
      "  124.25297347  131.70082342  132.30924062  139.83394328  153.19075938\n",
      "  152.86870997  146.88975297  142.40027447  141.13677951  138.12442818\n",
      "  134.39752973  155.59011894  183.81015554  168.10247027  141.7936871\n",
      "  140.87831656  143.71591949  144.2516011   147.46431839  153.5105215\n",
      "  157.16010979  150.63220494  148.4441903   162.62168344  170.2621226\n",
      "  170.18984446  167.30009149  163.00365965  150.98902104  143.5452882\n",
      "  164.50411711  187.08508692  174.52653248  150.64775846  150.11344922\n",
      "  161.41948765  167.26440988  170.37694419  172.73376029  169.84034767\n",
      "  159.50274474  151.16193962  163.83485819  174.58096981  178.59377859\n",
      "  174.94464776  163.59743824  147.0452882   147.01097896  168.82662397\n",
      "  188.00777676  176.85269899  153.6715462   147.03339433  157.99771272\n",
      "  171.8147301   178.09743824  178.24199451  171.54711802  160.21729186\n",
      "  146.66376944  157.70082342  166.79963403  169.25526075  160.79826167\n",
      "  145.35315645  136.47438243  141.35224154  155.76806953  171.24245197\n",
      "  160.72415371  144.27493138  138.70082342  141.59652333  156.66331199\n",
      "  167.40667887  169.88792315  164.1399817   153.03202196  137.80283623\n",
      "  146.35635865  152.54117109  150.8074108   139.79414456  129.76989936\n",
      "  125.47026532  120.49405306  126.85498628  136.78087832  129.49634035\n",
      "  121.87419945  127.03568161  132.33211345  139.26075023  148.50365965\n",
      "  154.14455627  151.02241537  140.91948765  127.17520586  133.71317475\n",
      "  136.27859103  131.37145471  125.09149131  124.83302836  118.51555352\n",
      "  104.38883806  104.10795974  109.41811528  107.83165599  108.20905764\n",
      "  121.50594694  130.48078683  128.66376944  130.03796889  135.49222324\n",
      "  135.58279963  127.87968893  118.25343092  123.60750229  123.75800549\n",
      "  117.53659652  114.89798719  118.99908509  116.83394328  105.81290027\n",
      "  102.30283623  102.78499543  104.96111619  110.11619396  120.18344007\n",
      "  124.78499543  119.95105215  117.81198536  121.94053065  124.14272644\n",
      "  118.22598353  113.11207685  118.59881061  118.73513266  111.39021043\n",
      "  103.56221409  102.57913998  106.54483074  106.33119854  106.78225069\n",
      "  107.72781336  108.68801464  109.57090576  111.04483074  108.26715462\n",
      "  106.72872827  111.17063129  117.94647758  119.30786825  113.50594694\n",
      "  110.80603843  116.13815188  118.61344922  112.20036597   98.19533394\n",
      "   87.22461116   88.98261665   97.58096981  105.82433669  109.64501372\n",
      "  109.38289113  104.19030192   97.43183898   92.3705398    98.89204026\n",
      "  111.25022873  119.45059469  117.84080512  110.81335773  106.92040256\n",
      "  112.32296432  117.56450137  117.59194876  109.415828     97.45516926\n",
      "   94.20539799  103.71774931  115.90667887  120.29734675  119.58783166\n",
      "  112.55672461  104.33851784  103.29643184  111.98124428  120.03019213\n",
      "  120.92863678  114.88517841  106.56724611  101.51418115  106.12900274\n",
      "  112.17291857  119.04391583  123.02607502  120.52470265  115.13769442\n",
      "  116.72186642  122.25709058  124.51006404  124.48170174  122.54300091\n",
      "  121.81198536  125.17383349  128.39249771  125.46340348  117.66559927\n",
      "  108.76989936  100.4926807    91.08188472   96.4126258   101.9021043\n",
      "  110.05169259  119.79963403  124.25709058  122.96477585  122.39524245\n",
      "  123.75068618  124.89752973  125.71774931  126.9336688   128.36825252\n",
      "  129.90667887  126.9757548   118.07090576  106.06861848   97.28408051\n",
      "   87.53522415]\n",
      "(2186, 361)\n",
      "[[  3.19094236e+01   4.65425435e+01   5.45100640e+01 ...,  -6.40686185e+01\n",
      "   -5.42840805e+01  -3.75352242e+01]\n",
      " [ -5.90905764e+01  -8.34574565e+01  -8.04899360e+01 ...,  -1.70686185e+01\n",
      "   -2.62840805e+01  -5.53522415e+00]\n",
      " [ -9.09057640e+00   2.55425435e+01   2.45100640e+01 ...,   5.93138152e+00\n",
      "    3.71591949e+00  -2.25352242e+01]\n",
      " ..., \n",
      " [  4.90942360e+00   4.55425435e+01   4.85100640e+01 ...,   1.79313815e+01\n",
      "    1.17159195e+01  -4.53522415e+00]\n",
      " [  3.99094236e+01   3.75425435e+01   3.35100640e+01 ...,  -6.86184812e-02\n",
      "    2.37159195e+01  -1.45352242e+01]\n",
      " [  1.06909424e+02   8.65425435e+01   7.95100640e+01 ...,   8.69313815e+01\n",
      "    2.87159195e+01  -7.25352242e+01]]\n"
     ]
    }
   ],
   "source": [
    "mean_train = np.mean(x_train, axis=0)\n",
    "\n",
    "x_train_zeromean = np.subtract(x_train, mean_train)\n",
    "\n",
    "print (mean_train.shape)\n",
    "print (mean_train)\n",
    "print (x_train_zeromean.shape)\n",
    "print (x_train_zeromean)"
   ]
  },
  {
   "cell_type": "markdown",
   "metadata": {},
   "source": [
    "covariance matrices are but a special kind ofHermitian matrices. If we want to compute their eigenvaluesand eigenvetors, we should therefore resort to the NumPy func-tion eigh because, as its name indicates, eigh is speciﬁcallytailored to Hermitian matrices \n",
    "\n",
    "NumPy / SciPy Recipes for Data Science: Eigenvalues/Eigenvectors of Covariance Matrices (PDF Download Available). Available from: https://www.researchgate.net/publication/281455336_NumPy_SciPy_Recipes_for_Data_Science_EigenvaluesEigenvectors_of_Covariance_Matrices?channel=doi&linkId=55e8babb08ae65b63899bb36&showFulltext=true [accessed Jun 24, 2017]."
   ]
  },
  {
   "cell_type": "code",
   "execution_count": 39,
   "metadata": {
    "collapsed": false
   },
   "outputs": [
    {
     "name": "stdout",
     "output_type": "stream",
     "text": [
      "(361, 361)\n",
      "[[ 2035.52131161  2109.76174993  1894.22379528 ...,   436.74710002\n",
      "    283.40675151   193.70710555]\n",
      " [ 2109.76174993  2999.28720524  3105.3249721  ...,   749.40978559\n",
      "    525.07776636   186.30561824]\n",
      " [ 1894.22379528  3105.3249721   3762.62072247 ...,   978.91281904\n",
      "    722.08638433   225.3555034 ]\n",
      " ..., \n",
      " [  436.74710002   749.40978559   978.91281904 ...,  2471.81588431\n",
      "   2190.68621873  1409.9554766 ]\n",
      " [  283.40675151   525.07776636   722.08638433 ...,  2190.68621873\n",
      "   2479.4538151   2029.6071514 ]\n",
      " [  193.70710555   186.30561824   225.3555034  ...,  1409.9554766\n",
      "   2029.6071514   2726.97473123]]\n",
      "(361, 361)\n",
      "[[ 4447614.06587374  4609829.42360476  4138878.99268069 ...,\n",
      "    954292.41354071   619243.75205855   423250.02561757]\n",
      " [ 4609829.42360476  6553442.54345837  6785135.06404392 ...,\n",
      "   1637460.38151876  1147294.91948765   407077.77584629]\n",
      " [ 4138878.99268069  6785135.06404392  8221326.27859103 ...,\n",
      "   2138924.50960659  1577758.74977127   492401.77493138]\n",
      " ..., \n",
      " [  954292.41354071  1637460.38151876  2138924.50960659 ...,\n",
      "   5400917.70722781  4786649.38792315  3080752.71637694]\n",
      " [  619243.75205855  1147294.91948765  1577758.74977127 ...,\n",
      "   4786649.38792315  5417606.58600183  4434691.62580055]\n",
      " [  423250.02561757   407077.77584629   492401.77493138 ...,\n",
      "   3080752.71637694  4434691.62580055  5958439.78774017]]\n"
     ]
    }
   ],
   "source": [
    "# compute sample covariance matrix\n",
    "C = np.cov(x_train_zeromean)\n",
    "CD = np.dot(x_train_zeromean.T, x_train_zeromean)\n",
    "\n",
    "\n",
    "# # compute eigenvalues/eigenvectors using eig\n",
    "# evals, evects = la.eig(C)\n",
    "# # compute eigenvalues/eigenvectors using eigh\n",
    "# evalsh, evectsh = la.eigh(C)\n",
    "\n",
    "# inds = np.argsort(evalsh)[::-1]\n",
    "# evalsh = evalsh[inds]\n",
    "# evectsh = evectsh[:,inds]\n",
    "\n",
    "print (C.shape)\n",
    "print (C)\n",
    "print (CD.shape)\n",
    "print (CD)\n",
    "# print (evalsh.shape)\n",
    "# print (evalsh)\n",
    "# print (evectsh.shape)\n",
    "# print (evectsh)"
   ]
  },
  {
   "cell_type": "code",
   "execution_count": 36,
   "metadata": {
    "collapsed": false
   },
   "outputs": [
    {
     "data": {
      "image/png": "[encoded data removed]",
      "text/plain": [
       "<matplotlib.figure.Figure at 0x11a1d7f98>"
      ]
     },
     "metadata": {},
     "output_type": "display_data"
    }
   ],
   "source": [
    "plt.plot(evalsh)\n",
    "plt.show()"
   ]
  },
  {
   "cell_type": "code",
   "execution_count": 31,
   "metadata": {
    "collapsed": false
   },
   "outputs": [
    {
     "data": {
      "image/png": "[encoded data removed]",
      "text/plain": [
       "<matplotlib.figure.Figure at 0x11a22e550>"
      ]
     },
     "metadata": {},
     "output_type": "display_data"
    },
    {
     "data": {
      "image/png": "[encoded data removed]",
      "text/plain": [
       "<matplotlib.figure.Figure at 0x119971908>"
      ]
     },
     "metadata": {},
     "output_type": "display_data"
    },
    {
     "data": {
      "image/png": "[encoded data removed]",
      "text/plain": [
       "<matplotlib.figure.Figure at 0x11a301710>"
      ]
     },
     "metadata": {},
     "output_type": "display_data"
    }
   ],
   "source": [
    "\n",
    "image1 = mean_train.reshape((19,19))\n",
    "image2 = x_train[200].reshape((19,19))\n",
    "image3 = x_train_zeromean[200].reshape((19,19))\n",
    "\n",
    "plt.figure(1)\n",
    "plt.imshow(image1, cmap='gray')\n",
    "plt.figure(2)\n",
    "plt.imshow(image2, cmap='gray')\n",
    "plt.figure(3)\n",
    "plt.imshow(image3, cmap='gray')\n",
    "plt.show()"
   ]
  },
  {
   "cell_type": "code",
   "execution_count": 29,
   "metadata": {
    "collapsed": false
   },
   "outputs": [
    {
     "name": "stdout",
     "output_type": "stream",
     "text": [
      "[[ 0.  1.  2.]\n",
      " [ 3.  4.  5.]\n",
      " [ 6.  7.  8.]] [ 1.  2.  3.]\n",
      "[[-1. -1. -1.]\n",
      " [ 2.  2.  2.]\n",
      " [ 5.  5.  5.]]\n"
     ]
    }
   ],
   "source": [
    "x1 = np.arange(9.0).reshape((3, 3))\n",
    "x2 = np.arange(1.0, 4.0)\n",
    "print (x1, x2)\n",
    "print (np.subtract(x1, x2))\n"
   ]
  },
  {
   "cell_type": "code",
   "execution_count": null,
   "metadata": {
    "collapsed": true
   },
   "outputs": [],
   "source": []
  }
 ],
 "metadata": {
  "kernelspec": {
   "display_name": "Python 3",
   "language": "python",
   "name": "python3"
  },
  "language_info": {
   "codemirror_mode": {
    "name": "ipython",
    "version": 3
   },
   "file_extension": ".py",
   "mimetype": "text/x-python",
   "name": "python",
   "nbconvert_exporter": "python",
   "pygments_lexer": "ipython3",
   "version": "3.6.0"
  }
 },
 "nbformat": 4,
 "nbformat_minor": 2
}
